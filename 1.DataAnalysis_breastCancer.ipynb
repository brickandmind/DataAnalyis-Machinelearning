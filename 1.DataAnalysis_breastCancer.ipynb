{
 "cells": [
  {
   "cell_type": "markdown",
   "metadata": {},
   "source": [
    "# Breast Cancer Data Analysis using RF and SVM"
   ]
  },
  {
   "cell_type": "markdown",
   "metadata": {},
   "source": [
    "### Data Cleaning  - step1(naming/change datatype)"
   ]
  },
  {
   "cell_type": "code",
   "execution_count": 74,
   "metadata": {},
   "outputs": [
    {
     "name": "stdout",
     "output_type": "stream",
     "text": [
      "<class 'pandas.core.frame.DataFrame'>\n",
      "RangeIndex: 698 entries, 0 to 697\n",
      "Data columns (total 9 columns):\n",
      "Clump_Thickness                698 non-null int64\n",
      "Uniformity_of_Cell_Size        698 non-null int64\n",
      "Uniformity_of_Cell_Shape       698 non-null int64\n",
      "Marginal_Adhesion              698 non-null int64\n",
      "Single_Epithelial_Cell_Size    698 non-null int64\n",
      "Bare_Nuclei                    698 non-null object\n",
      "Bland_Chromatin                698 non-null int64\n",
      "Normal_Nucleoli                698 non-null int64\n",
      "Mitoses                        698 non-null int64\n",
      "dtypes: int64(8), object(1)\n",
      "memory usage: 49.2+ KB\n",
      "None\n"
     ]
    }
   ],
   "source": [
    "from sklearn.model_selection import train_test_split, GridSearchCV, cross_val_score\n",
    "from sklearn.metrics import confusion_matrix, f1_score, classification_report, precision_recall_curve, roc_auc_score, accuracy_score\n",
    "import matplotlib.pyplot as plt\n",
    "import pandas as pd\n",
    "import numpy as np\n",
    "#import graphviz\n",
    "\n",
    "Breast_cancer = pd.read_csv('breast-cancer-wisconsin.csv')\n",
    "\n",
    "# Class 2 for benigh, Class 4 for malignant\n",
    "Breast_cancer.columns = ['id', \n",
    "                         'Clump_Thickness', \n",
    "                         'Uniformity_of_Cell_Size',\n",
    "                         'Uniformity_of_Cell_Shape', \n",
    "                         'Marginal_Adhesion',\n",
    "                         'Single_Epithelial_Cell_Size', \n",
    "                         'Bare_Nuclei',\n",
    "                         'Bland_Chromatin',\n",
    "                         'Normal_Nucleoli',\n",
    "                         'Mitoses', \n",
    "                         'Class']\n",
    "\n",
    "#X as the independent variable, and Y as dependent variable\n",
    "Breast_cancer.drop('id',axis=1, inplace = True)\n",
    "X = Breast_cancer.iloc[: , :-1]\n",
    "y = Breast_cancer.iloc[: , [-1]]\n",
    "# Bare_Nucle colum has '?' value at 22th row, making the column dtype 'objest'. Thus i replaced it with -9999(outlier value) \n",
    "# and change column dtype to integer using pd.to_numeric\n",
    "print(X.info())\n",
    "\n",
    "# based on info, we can find out there is something wrong with 'Bare_Nuclei' column"
   ]
  },
  {
   "cell_type": "markdown",
   "metadata": {},
   "source": [
    "### Data Cleaning - step2(check and remove invalid data)"
   ]
  },
  {
   "cell_type": "markdown",
   "metadata": {},
   "source": [
    "#### Error shows that we have'?' on the 22th row"
   ]
  },
  {
   "cell_type": "code",
   "execution_count": 75,
   "metadata": {
    "collapsed": true
   },
   "outputs": [
    {
     "ename": "ValueError",
     "evalue": "Unable to parse string \"?\" at position 22",
     "output_type": "error",
     "traceback": [
      "\u001b[1;31m---------------------------------------------------------------------------\u001b[0m",
      "\u001b[1;31mValueError\u001b[0m                                Traceback (most recent call last)",
      "\u001b[1;32mpandas\\_libs\\src\\inference.pyx\u001b[0m in \u001b[0;36mpandas._libs.lib.maybe_convert_numeric (pandas\\_libs\\lib.c:56156)\u001b[1;34m()\u001b[0m\n",
      "\u001b[1;31mValueError\u001b[0m: Unable to parse string \"?\"",
      "\nDuring handling of the above exception, another exception occurred:\n",
      "\u001b[1;31mValueError\u001b[0m                                Traceback (most recent call last)",
      "\u001b[1;32m<ipython-input-75-0ecd743a64eb>\u001b[0m in \u001b[0;36m<module>\u001b[1;34m()\u001b[0m\n\u001b[1;32m----> 1\u001b[1;33m \u001b[0mX\u001b[0m\u001b[1;33m[\u001b[0m\u001b[1;34m'Bare_Nuclei'\u001b[0m\u001b[1;33m]\u001b[0m \u001b[1;33m=\u001b[0m \u001b[0mpd\u001b[0m\u001b[1;33m.\u001b[0m\u001b[0mto_numeric\u001b[0m\u001b[1;33m(\u001b[0m\u001b[0mX\u001b[0m\u001b[1;33m[\u001b[0m\u001b[1;34m'Bare_Nuclei'\u001b[0m\u001b[1;33m]\u001b[0m\u001b[1;33m)\u001b[0m\u001b[1;33m\u001b[0m\u001b[0m\n\u001b[0m\u001b[0;32m      2\u001b[0m \u001b[1;31m# error shows that we have '?' on the 22th row\u001b[0m\u001b[1;33m\u001b[0m\u001b[1;33m\u001b[0m\u001b[0m\n",
      "\u001b[1;32m~\\Anaconda3\\lib\\site-packages\\pandas\\core\\tools\\numeric.py\u001b[0m in \u001b[0;36mto_numeric\u001b[1;34m(arg, errors, downcast)\u001b[0m\n\u001b[0;32m    124\u001b[0m             \u001b[0mcoerce_numeric\u001b[0m \u001b[1;33m=\u001b[0m \u001b[1;32mFalse\u001b[0m \u001b[1;32mif\u001b[0m \u001b[0merrors\u001b[0m \u001b[1;32min\u001b[0m \u001b[1;33m(\u001b[0m\u001b[1;34m'ignore'\u001b[0m\u001b[1;33m,\u001b[0m \u001b[1;34m'raise'\u001b[0m\u001b[1;33m)\u001b[0m \u001b[1;32melse\u001b[0m \u001b[1;32mTrue\u001b[0m\u001b[1;33m\u001b[0m\u001b[0m\n\u001b[0;32m    125\u001b[0m             values = lib.maybe_convert_numeric(values, set(),\n\u001b[1;32m--> 126\u001b[1;33m                                                coerce_numeric=coerce_numeric)\n\u001b[0m\u001b[0;32m    127\u001b[0m \u001b[1;33m\u001b[0m\u001b[0m\n\u001b[0;32m    128\u001b[0m     \u001b[1;32mexcept\u001b[0m \u001b[0mException\u001b[0m\u001b[1;33m:\u001b[0m\u001b[1;33m\u001b[0m\u001b[0m\n",
      "\u001b[1;32mpandas\\_libs\\src\\inference.pyx\u001b[0m in \u001b[0;36mpandas._libs.lib.maybe_convert_numeric (pandas\\_libs\\lib.c:56638)\u001b[1;34m()\u001b[0m\n",
      "\u001b[1;31mValueError\u001b[0m: Unable to parse string \"?\" at position 22"
     ]
    }
   ],
   "source": [
    "X['Bare_Nuclei'] = pd.to_numeric(X['Bare_Nuclei'])\n"
   ]
  },
  {
   "cell_type": "code",
   "execution_count": 76,
   "metadata": {
    "collapsed": true
   },
   "outputs": [],
   "source": [
    "# by scanning through the column 'Bare_Nuclei', we were able to find out one of the row takes the value '?'\n",
    "X = X.replace('?', -999999)\n",
    "X['Bare_Nuclei'] = pd.to_numeric(X['Bare_Nuclei'])\n",
    "mean = (X['Bare_Nuclei']>-999).mean()\n",
    "X = X.replace(-999999, 0.98)\n",
    "\n",
    "#convert dataframe to np.array to use sklean\n",
    "X = np.array(X)\n",
    "y = np.array(y)\n"
   ]
  },
  {
   "cell_type": "markdown",
   "metadata": {},
   "source": [
    "### Data Cleaning - step3(seperate training and evaluation group)"
   ]
  },
  {
   "cell_type": "code",
   "execution_count": 71,
   "metadata": {
    "collapsed": true
   },
   "outputs": [],
   "source": [
    "X_trainval, X_test, y_trainval, y_test = train_test_split(X, y, random_state=0)\n",
    "X_train, X_valid, y_train, y_valid = train_test_split(X_trainval, y_trainval, random_state=0)\n",
    "y_train = np.ravel(y_train)\n",
    "y_valid = np.ravel(y_valid)\n",
    "y_test = np.ravel(y_test)\n",
    "y_trainval = np.ravel(y_trainval)"
   ]
  },
  {
   "cell_type": "markdown",
   "metadata": {},
   "source": [
    "### Data Preprocessing"
   ]
  },
  {
   "cell_type": "code",
   "execution_count": 7,
   "metadata": {
    "collapsed": true
   },
   "outputs": [],
   "source": [
    "from sklearn.preprocessing import StandardScaler\n",
    "sc = StandardScaler()\n",
    "X_train = sc.fit_transform(X_train)\n",
    "X_valid = sc.transform(X_test)\n",
    "X_test = sc.transform(X_test)"
   ]
  },
  {
   "cell_type": "markdown",
   "metadata": {},
   "source": [
    "### Applyging Random Forest & SVM"
   ]
  },
  {
   "cell_type": "code",
   "execution_count": 8,
   "metadata": {},
   "outputs": [
    {
     "data": {
      "text/plain": [
       "SVC(C=1.0, cache_size=200, class_weight=None, coef0=0.0,\n",
       "  decision_function_shape='ovr', degree=3, gamma='auto', kernel='rbf',\n",
       "  max_iter=-1, probability=False, random_state=None, shrinking=True,\n",
       "  tol=0.001, verbose=False)"
      ]
     },
     "execution_count": 8,
     "metadata": {},
     "output_type": "execute_result"
    }
   ],
   "source": [
    "from sklearn.ensemble import RandomForestClassifier\n",
    "from sklearn.svm import SVC\n",
    "\n",
    "classifierRF = RandomForestClassifier(criterion = 'entropy')\n",
    "classifierSVC = SVC() \n",
    "\n",
    "classifierRF.fit(X_train, y_train)\n",
    "classifierSVC.fit(X_train, y_train)\n"
   ]
  },
  {
   "cell_type": "markdown",
   "metadata": {},
   "source": [
    "### Applying RF&SVM - step1(finding out hyper parameter for better accuracy)"
   ]
  },
  {
   "cell_type": "markdown",
   "metadata": {},
   "source": [
    "#### (Define Heat map)"
   ]
  },
  {
   "cell_type": "code",
   "execution_count": 9,
   "metadata": {
    "collapsed": true
   },
   "outputs": [],
   "source": [
    "#define heatmap to show the varianve of accuracy depending on param_grid values\n",
    "def heatmap(values, xlabel, ylabel, xticklabels, yticklabels, cmap=None,\n",
    "             vmin=None, vmax=None, ax=None, fmt=\"%0.2f\"):\n",
    "    \n",
    "    if ax is None:\n",
    "        ax = plt.gca()\n",
    "      # plot the mean cross-validation scores\n",
    "    img = ax.pcolor(values, cmap=cmap, vmin=vmin, vmax=vmax)\n",
    "    img.update_scalarmappable()\n",
    "    ax.set_xlabel(xlabel)\n",
    "    ax.set_ylabel(ylabel)\n",
    "    ax.set_xticks(np.arange(len(xticklabels)) + .5)\n",
    "    ax.set_yticks(np.arange(len(yticklabels)) + .5)\n",
    "    ax.set_xticklabels(xticklabels)\n",
    "    ax.set_yticklabels(yticklabels)\n",
    "    ax.set_aspect(1)\n",
    " \n",
    "    for p, color, value in zip(img.get_paths(), img.get_facecolors(),\n",
    "                                img.get_array()):\n",
    "        \n",
    "        x, y = p.vertices[:-2, :].mean(0)\n",
    "        if np.mean(color[:3]) > 0.5:\n",
    "            c = 'k'\n",
    "        else:\n",
    "             c = 'w'\n",
    "        ax.text(x, y, fmt % value, color=c, ha=\"center\", va=\"center\")\n",
    "    return img"
   ]
  },
  {
   "cell_type": "markdown",
   "metadata": {},
   "source": [
    "#### (figuring out best hyper parameter)"
   ]
  },
  {
   "cell_type": "code",
   "execution_count": 10,
   "metadata": {
    "collapsed": true
   },
   "outputs": [],
   "source": [
    "param_gridRF = {'max_features' : [1, 2 ,3, 4, 5, 6],\n",
    "                'min_samples_leaf' : [30, 40, 50, 60, 70, 80]}\n",
    "\n",
    "param_gridSVC = {'C' : [0.001, 0.01, 0.1, 1, 10, 100],\n",
    "             'gamma' : [0.0001, 0.001, 0.01, 0.1, 1, 10]}\n"
   ]
  },
  {
   "cell_type": "code",
   "execution_count": 11,
   "metadata": {
    "scrolled": false
   },
   "outputs": [
    {
     "name": "stdout",
     "output_type": "stream",
     "text": [
      "RandomForestClassifier(bootstrap=True, class_weight=None, criterion='gini',\n",
      "            max_depth=None, max_features=2, max_leaf_nodes=None,\n",
      "            min_impurity_decrease=0.0, min_impurity_split=None,\n",
      "            min_samples_leaf=40, min_samples_split=2,\n",
      "            min_weight_fraction_leaf=0.0, n_estimators=10, n_jobs=1,\n",
      "            oob_score=False, random_state=None, verbose=0,\n",
      "            warm_start=False)\n"
     ]
    }
   ],
   "source": [
    "# feagure out the best hyper parameter\n",
    "grid_searchRF = GridSearchCV(RandomForestClassifier(), param_gridRF, cv = 10)\n",
    "grid_searchRF.fit(X_test, y_test)\n",
    "print(format(grid_searchRF.best_estimator_))"
   ]
  },
  {
   "cell_type": "code",
   "execution_count": 12,
   "metadata": {},
   "outputs": [
    {
     "name": "stdout",
     "output_type": "stream",
     "text": [
      "SVC(C=1, cache_size=200, class_weight=None, coef0=0.0,\n",
      "  decision_function_shape='ovr', degree=3, gamma=0.01, kernel='rbf',\n",
      "  max_iter=-1, probability=False, random_state=None, shrinking=True,\n",
      "  tol=0.001, verbose=False)\n"
     ]
    }
   ],
   "source": [
    "grid_searchSVC = GridSearchCV(SVC(), param_gridSVC, cv = 10)\n",
    "grid_searchSVC.fit(X_test, y_test)\n",
    "print(format(grid_searchSVC.best_estimator_))"
   ]
  },
  {
   "cell_type": "code",
   "execution_count": 14,
   "metadata": {
    "scrolled": true
   },
   "outputs": [
    {
     "data": {
      "text/plain": [
       "<matplotlib.collections.PolyCollection at 0x96d31a3eb8>"
      ]
     },
     "execution_count": 14,
     "metadata": {},
     "output_type": "execute_result"
    },
    {
     "data": {
      "image/png": "[encoded data removed]",
      "text/plain": [
       "<matplotlib.figure.Figure at 0x96d3016ef0>"
      ]
     },
     "metadata": {},
     "output_type": "display_data"
    }
   ],
   "source": [
    "# based on the graph, there is no need to change hyper parameter test range\n",
    "resultsRF = pd.DataFrame(grid_searchRF.cv_results_)\n",
    "scoresRF = np.array(resultsRF.mean_test_score).reshape(6,6)\n",
    "%matplotlib inline\n",
    "heatmap(scoresRF, xlabel='max_features', xticklabels=param_gridRF['max_features'], ylabel='min_samples_leaf', yticklabels=param_gridRF['min_samples_leaf'], cmap=\"viridis\")"
   ]
  },
  {
   "cell_type": "code",
   "execution_count": 15,
   "metadata": {
    "scrolled": true
   },
   "outputs": [
    {
     "data": {
      "text/plain": [
       "<matplotlib.collections.PolyCollection at 0x96d32f19b0>"
      ]
     },
     "execution_count": 15,
     "metadata": {},
     "output_type": "execute_result"
    },
    {
     "data": {
      "image/png": "[encoded data removed]",
      "text/plain": [
       "<matplotlib.figure.Figure at 0x96d3016358>"
      ]
     },
     "metadata": {},
     "output_type": "display_data"
    }
   ],
   "source": [
    "resultsSVC = pd.DataFrame(grid_searchSVC.cv_results_)\n",
    "scoresSVC = np.array(resultsSVC.mean_test_score).reshape(6,6)\n",
    "%matplotlib inline\n",
    "heatmap(scoresSVC, xlabel='C', xticklabels=param_gridSVC['C'], ylabel='gamma', yticklabels=param_gridSVC['gamma'], cmap=\"viridis\")"
   ]
  },
  {
   "cell_type": "markdown",
   "metadata": {},
   "source": [
    "### Best_fit RF & SVC model"
   ]
  },
  {
   "cell_type": "code",
   "execution_count": 16,
   "metadata": {
    "collapsed": true
   },
   "outputs": [],
   "source": [
    "classifierRF = RandomForestClassifier(criterion = 'entropy', max_features = 4, min_samples_leaf = 3)\n",
    "classifierSVC = SVC(C = 1, gamma = 0.001) "
   ]
  },
  {
   "cell_type": "markdown",
   "metadata": {},
   "source": [
    "### Accuracy and other prediction results"
   ]
  },
  {
   "cell_type": "code",
   "execution_count": 23,
   "metadata": {},
   "outputs": [
    {
     "name": "stdout",
     "output_type": "stream",
     "text": [
      "Rf accuracy: 0.969465648855\n",
      "SVC accuracy: 0.961832061069\n",
      "[[86  3]\n",
      " [ 1 41]]\n",
      "[[86  3]\n",
      " [ 1 41]]\n"
     ]
    }
   ],
   "source": [
    "\n",
    "classifierRF_train = classifierRF.fit(X_train, y_train)\n",
    "classifierSVC_train = classifierSVC.fit(X_train, y_train)\n",
    "\n",
    "pred_RF_validset = classifierRF.predict(X_valid)\n",
    "pred_SVC_validset = classifierRF.predict(X_valid)\n",
    "\n",
    "confusionRF = confusion_matrix(y_valid, pred_RF_validset)\n",
    "confusionSVC = confusion_matrix(y_valid, pred_SVC_validset)\n",
    "\n",
    "print('Rf accuracy:', classifierRF.score(X_valid, y_valid))\n",
    "print('SVC accuracy:', classifierSVC.score(X_valid, y_valid))\n",
    "print(format(confusionRF))\n",
    "print(format(confusionSVC))\n",
    "\n"
   ]
  },
  {
   "cell_type": "code",
   "execution_count": 24,
   "metadata": {},
   "outputs": [
    {
     "name": "stdout",
     "output_type": "stream",
     "text": [
      "RF :               precision    recall  f1-score   support\n",
      "\n",
      "          2       0.99      0.97      0.98        89\n",
      "          4       0.93      0.98      0.95        42\n",
      "\n",
      "avg / total       0.97      0.97      0.97       131\n",
      "\n",
      "SVC :               precision    recall  f1-score   support\n",
      "\n",
      "          2       0.99      0.97      0.98        89\n",
      "          4       0.93      0.98      0.95        42\n",
      "\n",
      "avg / total       0.97      0.97      0.97       131\n",
      "\n"
     ]
    }
   ],
   "source": [
    "ClassificationReport_RF = classification_report(y_valid, pred_RF_validset)\n",
    "ClassificationReport_SVC = classification_report(y_valid, pred_SVC_validset)\n",
    "print('RF : ', ClassificationReport_RF)\n",
    "print('SVC : ', ClassificationReport_SVC)"
   ]
  },
  {
   "cell_type": "markdown",
   "metadata": {},
   "source": [
    "### Analysis of Classification Report"
   ]
  },
  {
   "cell_type": "markdown",
   "metadata": {},
   "source": [
    "#### Based on the classification report, both RF and SVC models have same misprediction error. Thus, we need to see if there are out liers"
   ]
  },
  {
   "cell_type": "code",
   "execution_count": 77,
   "metadata": {},
   "outputs": [
    {
     "data": {
      "image/png": "[encoded data removed]",
      "text/plain": [
       "<matplotlib.figure.Figure at 0x96d612e9e8>"
      ]
     },
     "metadata": {},
     "output_type": "display_data"
    }
   ],
   "source": [
    "%matplotlib inline\n",
    "fig, axes = plt.subplots(nrows=3, ncols=3, figsize = (10,10))\n",
    "#fig = plt.figure(figsize = plt.figaspect(0.5))\n",
    "names = [  'Clump_Thickness', \n",
    "           'Uniformity_of_Cell_Size',\n",
    "           'Uniformity_of_Cell_Shape', \n",
    "           'Marginal_Adhesion',\n",
    "           'Single_Epithelial_Cell_Size', \n",
    "           'Bare_Nuclei',\n",
    "           'Bland_Chromatin',\n",
    "           'Normal_Nucleoli',\n",
    "           'Mitoses']\n",
    "X_list = (X[:,0], X[:,1], X[:,2], X[:,3], X[:,4], X[:,5], X[:,6], X[:,7], X[:,8])\n",
    "for ax, x, name in zip(axes.flat, X_list , names):\n",
    "    ax.boxplot(x)\n",
    "    ax.set(title=name)\n",
    "\n",
    "plt.tight_layout()"
   ]
  },
  {
   "cell_type": "code",
   "execution_count": 85,
   "metadata": {
    "scrolled": false
   },
   "outputs": [
    {
     "data": {
      "text/html": [
       "<div>\n",
       "<style>\n",
       "    .dataframe thead tr:only-child th {\n",
       "        text-align: right;\n",
       "    }\n",
       "\n",
       "    .dataframe thead th {\n",
       "        text-align: left;\n",
       "    }\n",
       "\n",
       "    .dataframe tbody tr th {\n",
       "        vertical-align: top;\n",
       "    }\n",
       "</style>\n",
       "<table border=\"1\" class=\"dataframe\">\n",
       "  <thead>\n",
       "    <tr style=\"text-align: right;\">\n",
       "      <th></th>\n",
       "      <th>Clump_Thickness</th>\n",
       "      <th>Uniformity_of_Cell_Size</th>\n",
       "      <th>Uniformity_of_Cell_Shape</th>\n",
       "      <th>Marginal_Adhesion</th>\n",
       "      <th>Single_Epithelial_Cell_Size</th>\n",
       "      <th>Bland_Chromatin</th>\n",
       "      <th>Normal_Nucleoli</th>\n",
       "      <th>Mitoses</th>\n",
       "      <th>Class</th>\n",
       "    </tr>\n",
       "  </thead>\n",
       "  <tbody>\n",
       "    <tr>\n",
       "      <th>count</th>\n",
       "      <td>698.000000</td>\n",
       "      <td>698.000000</td>\n",
       "      <td>698.000000</td>\n",
       "      <td>698.000000</td>\n",
       "      <td>698.000000</td>\n",
       "      <td>698.000000</td>\n",
       "      <td>698.000000</td>\n",
       "      <td>698.000000</td>\n",
       "      <td>698.000000</td>\n",
       "    </tr>\n",
       "    <tr>\n",
       "      <th>mean</th>\n",
       "      <td>4.416905</td>\n",
       "      <td>3.137536</td>\n",
       "      <td>3.210602</td>\n",
       "      <td>2.809456</td>\n",
       "      <td>3.217765</td>\n",
       "      <td>3.438395</td>\n",
       "      <td>2.869628</td>\n",
       "      <td>1.590258</td>\n",
       "      <td>2.690544</td>\n",
       "    </tr>\n",
       "    <tr>\n",
       "      <th>std</th>\n",
       "      <td>2.817673</td>\n",
       "      <td>3.052575</td>\n",
       "      <td>2.972867</td>\n",
       "      <td>2.856606</td>\n",
       "      <td>2.215408</td>\n",
       "      <td>2.440056</td>\n",
       "      <td>3.055004</td>\n",
       "      <td>1.716162</td>\n",
       "      <td>0.951596</td>\n",
       "    </tr>\n",
       "    <tr>\n",
       "      <th>min</th>\n",
       "      <td>1.000000</td>\n",
       "      <td>1.000000</td>\n",
       "      <td>1.000000</td>\n",
       "      <td>1.000000</td>\n",
       "      <td>1.000000</td>\n",
       "      <td>1.000000</td>\n",
       "      <td>1.000000</td>\n",
       "      <td>1.000000</td>\n",
       "      <td>2.000000</td>\n",
       "    </tr>\n",
       "    <tr>\n",
       "      <th>25%</th>\n",
       "      <td>2.000000</td>\n",
       "      <td>1.000000</td>\n",
       "      <td>1.000000</td>\n",
       "      <td>1.000000</td>\n",
       "      <td>2.000000</td>\n",
       "      <td>2.000000</td>\n",
       "      <td>1.000000</td>\n",
       "      <td>1.000000</td>\n",
       "      <td>2.000000</td>\n",
       "    </tr>\n",
       "    <tr>\n",
       "      <th>50%</th>\n",
       "      <td>4.000000</td>\n",
       "      <td>1.000000</td>\n",
       "      <td>1.000000</td>\n",
       "      <td>1.000000</td>\n",
       "      <td>2.000000</td>\n",
       "      <td>3.000000</td>\n",
       "      <td>1.000000</td>\n",
       "      <td>1.000000</td>\n",
       "      <td>2.000000</td>\n",
       "    </tr>\n",
       "    <tr>\n",
       "      <th>75%</th>\n",
       "      <td>6.000000</td>\n",
       "      <td>5.000000</td>\n",
       "      <td>5.000000</td>\n",
       "      <td>4.000000</td>\n",
       "      <td>4.000000</td>\n",
       "      <td>5.000000</td>\n",
       "      <td>4.000000</td>\n",
       "      <td>1.000000</td>\n",
       "      <td>4.000000</td>\n",
       "    </tr>\n",
       "    <tr>\n",
       "      <th>max</th>\n",
       "      <td>10.000000</td>\n",
       "      <td>10.000000</td>\n",
       "      <td>10.000000</td>\n",
       "      <td>10.000000</td>\n",
       "      <td>10.000000</td>\n",
       "      <td>10.000000</td>\n",
       "      <td>10.000000</td>\n",
       "      <td>10.000000</td>\n",
       "      <td>4.000000</td>\n",
       "    </tr>\n",
       "  </tbody>\n",
       "</table>\n",
       "</div>"
      ],
      "text/plain": [
       "       Clump_Thickness  Uniformity_of_Cell_Size  Uniformity_of_Cell_Shape  \\\n",
       "count       698.000000               698.000000                698.000000   \n",
       "mean          4.416905                 3.137536                  3.210602   \n",
       "std           2.817673                 3.052575                  2.972867   \n",
       "min           1.000000                 1.000000                  1.000000   \n",
       "25%           2.000000                 1.000000                  1.000000   \n",
       "50%           4.000000                 1.000000                  1.000000   \n",
       "75%           6.000000                 5.000000                  5.000000   \n",
       "max          10.000000                10.000000                 10.000000   \n",
       "\n",
       "       Marginal_Adhesion  Single_Epithelial_Cell_Size  Bland_Chromatin  \\\n",
       "count         698.000000                   698.000000       698.000000   \n",
       "mean            2.809456                     3.217765         3.438395   \n",
       "std             2.856606                     2.215408         2.440056   \n",
       "min             1.000000                     1.000000         1.000000   \n",
       "25%             1.000000                     2.000000         2.000000   \n",
       "50%             1.000000                     2.000000         3.000000   \n",
       "75%             4.000000                     4.000000         5.000000   \n",
       "max            10.000000                    10.000000        10.000000   \n",
       "\n",
       "       Normal_Nucleoli     Mitoses       Class  \n",
       "count       698.000000  698.000000  698.000000  \n",
       "mean          2.869628    1.590258    2.690544  \n",
       "std           3.055004    1.716162    0.951596  \n",
       "min           1.000000    1.000000    2.000000  \n",
       "25%           1.000000    1.000000    2.000000  \n",
       "50%           1.000000    1.000000    2.000000  \n",
       "75%           4.000000    1.000000    4.000000  \n",
       "max          10.000000   10.000000    4.000000  "
      ]
     },
     "execution_count": 85,
     "metadata": {},
     "output_type": "execute_result"
    }
   ],
   "source": [
    "Breast_cancer.describe()"
   ]
  },
  {
   "cell_type": "markdown",
   "metadata": {},
   "source": [
    "### Outlier Analysis"
   ]
  },
  {
   "cell_type": "markdown",
   "metadata": {},
   "source": [
    "#### It seems that outliers are consistent showing over all the variables. Thus, it might not be a good choice to get rid of all the 'out of quartile' data"
   ]
  },
  {
   "cell_type": "code",
   "execution_count": 87,
   "metadata": {},
   "outputs": [
    {
     "name": "stdout",
     "output_type": "stream",
     "text": [
      "Rf accuracy: 0.96\n",
      "SVC accuracy: 0.96\n",
      "[[101   7]\n",
      " [  0  67]]\n",
      "[[101   7]\n",
      " [  0  67]]\n"
     ]
    }
   ],
   "source": [
    "classifierRF_train = classifierRF.fit(X_trainval, y_trainval)\n",
    "classifierSVC_train = classifierSVC.fit(X_trainval, y_trainval)\n",
    "\n",
    "pred_RF_testset = classifierRF.predict(X_test)\n",
    "pred_SVC_testset = classifierRF.predict(X_test)\n",
    "\n",
    "confusionRF = confusion_matrix(y_test, pred_RF_testset)\n",
    "confusionSVC = confusion_matrix(y_test, pred_SVC_testset)\n",
    "\n",
    "print('Rf accuracy:', classifierRF.score(X_test, y_test))\n",
    "print('SVC accuracy:', classifierSVC.score(X_test, y_test))\n",
    "print(format(confusionRF))\n",
    "print(format(confusionSVC))"
   ]
  },
  {
   "cell_type": "code",
   "execution_count": 88,
   "metadata": {},
   "outputs": [
    {
     "name": "stdout",
     "output_type": "stream",
     "text": [
      "RF :               precision    recall  f1-score   support\n",
      "\n",
      "          2       1.00      0.94      0.97       108\n",
      "          4       0.91      1.00      0.95        67\n",
      "\n",
      "avg / total       0.96      0.96      0.96       175\n",
      "\n",
      "SVC :               precision    recall  f1-score   support\n",
      "\n",
      "          2       1.00      0.94      0.97       108\n",
      "          4       0.91      1.00      0.95        67\n",
      "\n",
      "avg / total       0.96      0.96      0.96       175\n",
      "\n"
     ]
    }
   ],
   "source": [
    "ClassificationReport_RF_testset = classification_report(y_test, pred_RF_testset)\n",
    "ClassificationReport_SVC_testset = classification_report(y_test, pred_SVC_testset)\n",
    "print('RF : ', ClassificationReport_RF_testset)\n",
    "print('SVC : ', ClassificationReport_SVC_testset)"
   ]
  },
  {
   "cell_type": "markdown",
   "metadata": {},
   "source": [
    "## Result - Comparison between RF & SVC"
   ]
  },
  {
   "cell_type": "markdown",
   "metadata": {},
   "source": [
    "#### They are accurate enough to be used in the real business field\n",
    "Both SVC and RF seems to have similar accuracy and classification rate.\n",
    "What need to be done is clarifying which data are outliers in the breast cancer data\n",
    "Thus, futher understadning on the cells' characteristics are required\n",
    "Overall, both method acquired 96 percent of accuracy rate. Further more, the false negative rate is extremely low, whcih means \n",
    "the model stays away from false negative diagnosis."
   ]
  },
  {
   "cell_type": "code",
   "execution_count": null,
   "metadata": {
    "collapsed": true
   },
   "outputs": [],
   "source": []
  }
 ],
 "metadata": {
  "kernelspec": {
   "display_name": "Python [conda root]",
   "language": "python",
   "name": "conda-root-py"
  },
  "language_info": {
   "codemirror_mode": {
    "name": "ipython",
    "version": 3
   },
   "file_extension": ".py",
   "mimetype": "text/x-python",
   "name": "python",
   "nbconvert_exporter": "python",
   "pygments_lexer": "ipython3",
   "version": "3.6.3"
  }
 },
 "nbformat": 4,
 "nbformat_minor": 2
}
